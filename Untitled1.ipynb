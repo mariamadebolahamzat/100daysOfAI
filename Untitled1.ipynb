{
 "cells": [
  {
   "cell_type": "code",
   "execution_count": 1,
   "id": "d165c2b2-194a-4c42-9992-b7e6d85b6600",
   "metadata": {},
   "outputs": [
    {
     "name": "stdout",
     "output_type": "stream",
     "text": [
      "0 2 4 6 8 10 12 14 16 18 20 "
     ]
    }
   ],
   "source": [
    "x = 0\n",
    "while x <= 20:\n",
    "    print(x, end=\" \")\n",
    "    x = x + 2"
   ]
  },
  {
   "cell_type": "code",
   "execution_count": 3,
   "id": "829eaf5f-b518-45f8-9999-281637347cad",
   "metadata": {},
   "outputs": [
    {
     "name": "stdout",
     "output_type": "stream",
     "text": [
      "0 2 4 6 8 10 12 14 16 18 20 "
     ]
    }
   ],
   "source": [
    "x = 0\n",
    "while x <= 20:\n",
    "    print(x, end=\" \")\n",
    "    x += 2"
   ]
  },
  {
   "cell_type": "code",
   "execution_count": 5,
   "id": "13338405-1fda-4dd7-bc04-75a0c3cf16e6",
   "metadata": {},
   "outputs": [
    {
     "name": "stdout",
     "output_type": "stream",
     "text": [
      "1 3 5 7 9 11 13 15 17 19 21 23 25 27 29 "
     ]
    }
   ],
   "source": [
    "x = 1 \n",
    "while x <= 30:\n",
    "    print(x, end = \" \")\n",
    "    x += 2"
   ]
  },
  {
   "cell_type": "code",
   "execution_count": 9,
   "id": "24d9ae07-0f11-4e61-8b99-ffa8e56219b4",
   "metadata": {},
   "outputs": [
    {
     "data": {
      "text/plain": [
       "[0, 1, 2, 3, 4, 5, 6, 7, 8, 9, 10, 11, 12, 13, 14, 15, 16, 17, 18, 19]"
      ]
     },
     "execution_count": 9,
     "metadata": {},
     "output_type": "execute_result"
    }
   ],
   "source": [
    "list(range(20))"
   ]
  },
  {
   "cell_type": "code",
   "execution_count": 11,
   "id": "f4cf78dc-6abd-45d9-854c-4cd58fc4c217",
   "metadata": {},
   "outputs": [
    {
     "data": {
      "text/plain": [
       "[1, 2, 3, 4, 5, 6, 7, 8, 9]"
      ]
     },
     "execution_count": 11,
     "metadata": {},
     "output_type": "execute_result"
    }
   ],
   "source": [
    "list(range(1,10))"
   ]
  },
  {
   "cell_type": "code",
   "execution_count": 13,
   "id": "8e40bca9-8b0f-4e7d-a3d1-6e657a3b31e5",
   "metadata": {},
   "outputs": [
    {
     "data": {
      "text/plain": [
       "[0, 1, 2, 3, 4, 5, 6, 7, 8, 9, 10, 11, 12, 13, 14, 15, 16, 17, 18, 19]"
      ]
     },
     "execution_count": 13,
     "metadata": {},
     "output_type": "execute_result"
    }
   ],
   "source": [
    "list(range(20))"
   ]
  },
  {
   "cell_type": "code",
   "execution_count": 17,
   "id": "68e3875a-6976-4e04-9cfc-97c983192843",
   "metadata": {},
   "outputs": [
    {
     "data": {
      "text/plain": [
       "[0, 2, 4, 6, 8, 10, 12, 14, 16, 18, 20, 22, 24, 26, 28]"
      ]
     },
     "execution_count": 17,
     "metadata": {},
     "output_type": "execute_result"
    }
   ],
   "source": [
    "list(range(0,30,2))"
   ]
  },
  {
   "cell_type": "code",
   "execution_count": 21,
   "id": "a921b726-6389-496a-b340-ffc69d74b943",
   "metadata": {},
   "outputs": [
    {
     "name": "stdout",
     "output_type": "stream",
     "text": [
      "0 1 4 9 16 25 36 49 64 81 100 121 144 169 196 225 256 289 324 361 "
     ]
    }
   ],
   "source": [
    "for n in range (20):\n",
    "    print(n ** 2, end = \" \")"
   ]
  },
  {
   "cell_type": "code",
   "execution_count": 25,
   "id": "f97d75f3-c371-4788-84ef-d75a0632b241",
   "metadata": {},
   "outputs": [
    {
     "name": "stdout",
     "output_type": "stream",
     "text": [
      "0 Odd 2 Odd 4 Odd 6 Odd 8 Odd 10 Odd 12 Odd 14 Odd 16 Odd 18 Odd "
     ]
    }
   ],
   "source": [
    "for n in range(20):\n",
    "    if n % 2 == 0:\n",
    "        print(n, end = \" \")\n",
    "    else:\n",
    "        print(\"Odd\", end = \" \")"
   ]
  },
  {
   "cell_type": "code",
   "execution_count": 37,
   "id": "7520f34b-c974-4349-bad1-ec0af47cec5b",
   "metadata": {},
   "outputs": [
    {
     "name": "stdout",
     "output_type": "stream",
     "text": [
      "1 Even 3 Even 5 Even 7 Even 9 Even 11 Even 13 Even 15 Even 17 Even 19 Even 21 Even 23 Even 25 Even 27 Even 29 Even "
     ]
    }
   ],
   "source": [
    "x = list(range(1,31))\n",
    "for item in x:\n",
    "    if item % 2 == 1:\n",
    "        print(item, end = \" \")\n",
    "    else:\n",
    "        print(\"Even\", end = \" \")"
   ]
  },
  {
   "cell_type": "code",
   "execution_count": 31,
   "id": "acf1ab64-f732-4343-998b-4462e4abfefd",
   "metadata": {},
   "outputs": [
    {
     "name": "stdout",
     "output_type": "stream",
     "text": [
      "2 4 6 8 10 12 14 16 18 20 "
     ]
    }
   ],
   "source": [
    "x = list(range(1,11))\n",
    "for item in x:\n",
    "    print(item * 2, end = \" \")"
   ]
  },
  {
   "cell_type": "code",
   "execution_count": 54,
   "id": "93a01006-7489-44bb-bb9c-b15e67fece2f",
   "metadata": {},
   "outputs": [],
   "source": [
    "def count(numbers):\n",
    "    total = 0\n",
    "    for x in numbers:\n",
    "        if x  <= 20:\n",
    "            total += 1\n",
    "    return total"
   ]
  },
  {
   "cell_type": "code",
   "execution_count": 58,
   "id": "35b24f13-8f0a-409e-81dc-c526d1067ab5",
   "metadata": {},
   "outputs": [],
   "source": [
    "list_1 = [1, 3, 5, 7, 9, 111, 59]"
   ]
  },
  {
   "cell_type": "code",
   "execution_count": 60,
   "id": "75b486c6-8807-4975-9b3b-47102c70b937",
   "metadata": {},
   "outputs": [
    {
     "data": {
      "text/plain": [
       "5"
      ]
     },
     "execution_count": 60,
     "metadata": {},
     "output_type": "execute_result"
    }
   ],
   "source": [
    "count(list_1)"
   ]
  },
  {
   "cell_type": "code",
   "execution_count": null,
   "id": "dd1937d5-a54b-459d-b91a-78159486bfcf",
   "metadata": {},
   "outputs": [],
   "source": [
    "nums = [1,35,12,24,31,51,70,100]\n",
    "def count(nums):\n",
    "    i = 0  \n",
    "    counter = 0  \n",
    "    while i < len(nums):  \n",
    "        if nums[i] < 20:  \n",
    "          counter += 1  \n",
    "          i += 1  \n",
    "    return counter\n",
    "count(nums)"
   ]
  },
  {
   "cell_type": "code",
   "execution_count": null,
   "id": "ec05f79d-623b-4442-82a5-b84f8486682e",
   "metadata": {},
   "outputs": [],
   "source": []
  },
  {
   "cell_type": "code",
   "execution_count": null,
   "id": "70bfa479-b952-4e5e-b879-cdce4de11a0e",
   "metadata": {},
   "outputs": [],
   "source": []
  },
  {
   "cell_type": "code",
   "execution_count": null,
   "id": "2acb4efd-5428-44f6-a38b-b70f39ea3367",
   "metadata": {},
   "outputs": [],
   "source": []
  },
  {
   "cell_type": "code",
   "execution_count": null,
   "id": "40f46c37-18c7-4807-9677-ba7673ad4bde",
   "metadata": {},
   "outputs": [],
   "source": []
  }
 ],
 "metadata": {
  "kernelspec": {
   "display_name": "Python 3 (ipykernel)",
   "language": "python",
   "name": "python3"
  },
  "language_info": {
   "codemirror_mode": {
    "name": "ipython",
    "version": 3
   },
   "file_extension": ".py",
   "mimetype": "text/x-python",
   "name": "python",
   "nbconvert_exporter": "python",
   "pygments_lexer": "ipython3",
   "version": "3.12.4"
  }
 },
 "nbformat": 4,
 "nbformat_minor": 5
}
