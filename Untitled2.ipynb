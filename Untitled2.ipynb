{
 "cells": [
  {
   "cell_type": "code",
   "execution_count": 1,
   "id": "8ece7b1b-6098-4547-bf33-792f3ad83dd4",
   "metadata": {},
   "outputs": [
    {
     "name": "stdout",
     "output_type": "stream",
     "text": [
      "2\n"
     ]
    }
   ],
   "source": [
    "nums = [1,35,12,24,31,51,70,100]\n",
    "def count(nums):\n",
    "    i = 0  \n",
    "    counter = 0  \n",
    "    while i < len(nums):\n",
    "        if nums[i] < 20:\n",
    "            counter += 1\n",
    "        i += 1  \n",
    "    return counter\n",
    "print(count(nums))"
   ]
  },
  {
   "cell_type": "code",
   "execution_count": null,
   "id": "e34f3f11-304f-4b1c-a0fe-4465a3a45abf",
   "metadata": {},
   "outputs": [],
   "source": []
  }
 ],
 "metadata": {
  "kernelspec": {
   "display_name": "Python 3 (ipykernel)",
   "language": "python",
   "name": "python3"
  },
  "language_info": {
   "codemirror_mode": {
    "name": "ipython",
    "version": 3
   },
   "file_extension": ".py",
   "mimetype": "text/x-python",
   "name": "python",
   "nbconvert_exporter": "python",
   "pygments_lexer": "ipython3",
   "version": "3.12.4"
  }
 },
 "nbformat": 4,
 "nbformat_minor": 5
}
